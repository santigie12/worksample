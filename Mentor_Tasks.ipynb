{
 "cells": [
  {
   "cell_type": "markdown",
   "id": "fff480c7",
   "metadata": {},
   "source": [
    "### Matrix product is calculated manually to verify the evaluation"
   ]
  },
  {
   "cell_type": "markdown",
   "id": "c4e47f24",
   "metadata": {},
   "source": [
    "**Question Solution**\n",
    "\n",
    "$$ A = \\begin{bmatrix}-1\\\\ 2\\\\ 3 \\end{bmatrix} B = \\begin{bmatrix}0 \\\\ 2 \\\\ 1 \\end{bmatrix}=7 $$\n",
    "\n",
    "\n",
    "**Step 1 multiplication:**\n",
    "$$ \\begin{bmatrix}(-1*0)+(2*2)+(3*1) \\end{bmatrix} $$\n",
    "\n",
    "\n",
    "**Step 2 addition:**\n",
    "$$\n",
    "\\begin{bmatrix}0+4+3\\end{bmatrix} $$\n",
    "\n",
    "\n",
    "**Final answer**\n",
    "$$\n",
    "\\begin{bmatrix}7\\end{bmatrix} $$\n"
   ]
  },
  {
   "cell_type": "markdown",
   "id": "164d778f",
   "metadata": {},
   "source": [
    "## Problem One: "
   ]
  },
  {
   "cell_type": "code",
   "execution_count": 2,
   "id": "a00e62f3",
   "metadata": {},
   "outputs": [],
   "source": [
    "import numpy as np\n",
    "\n",
    "#creating a numpy array\n",
    "a = np.array([[-1,2,3]])\n",
    "b = np.array([[0,2,1]])\n"
   ]
  },
  {
   "cell_type": "code",
   "execution_count": 2,
   "id": "99698382",
   "metadata": {},
   "outputs": [
    {
     "data": {
      "text/plain": [
       "array([[7]])"
      ]
     },
     "execution_count": 2,
     "metadata": {},
     "output_type": "execute_result"
    }
   ],
   "source": [
    "np.inner(a,b) #you can also use the inner function to do the evaluation"
   ]
  },
  {
   "cell_type": "code",
   "execution_count": 4,
   "id": "cf43b037",
   "metadata": {},
   "outputs": [
    {
     "data": {
      "text/plain": [
       "7"
      ]
     },
     "execution_count": 4,
     "metadata": {},
     "output_type": "execute_result"
    }
   ],
   "source": [
    "#to do this evaluation also again you can use a single [square bracket] in passing the array list\n",
    "a = np.array([-1,2,3]) \n",
    "b = np.array([0,2,1])\n",
    "np.dot(a,b)"
   ]
  },
  {
   "cell_type": "markdown",
   "id": "22d83d2a",
   "metadata": {},
   "source": [
    "### Additional Exercise"
   ]
  },
  {
   "cell_type": "code",
   "execution_count": 8,
   "id": "9efd66b2",
   "metadata": {},
   "outputs": [
    {
     "data": {
      "text/plain": [
       "(array([-1,  2,  3]), array([0, 2, 1]))"
      ]
     },
     "execution_count": 8,
     "metadata": {},
     "output_type": "execute_result"
    }
   ],
   "source": [
    "a,b"
   ]
  },
  {
   "cell_type": "code",
   "execution_count": 14,
   "id": "38d70737",
   "metadata": {},
   "outputs": [],
   "source": [
    "a = np.arange(0,2,1) #creating a range function"
   ]
  },
  {
   "cell_type": "code",
   "execution_count": 15,
   "id": "3e9d3952",
   "metadata": {},
   "outputs": [
    {
     "data": {
      "text/plain": [
       "array([0, 1])"
      ]
     },
     "execution_count": 15,
     "metadata": {},
     "output_type": "execute_result"
    }
   ],
   "source": [
    "a"
   ]
  },
  {
   "cell_type": "code",
   "execution_count": 19,
   "id": "196f330a",
   "metadata": {},
   "outputs": [],
   "source": [
    "a = np.linspace(-1,2,3) #inline spacing function"
   ]
  },
  {
   "cell_type": "code",
   "execution_count": 20,
   "id": "e3d242fa",
   "metadata": {},
   "outputs": [
    {
     "data": {
      "text/plain": [
       "array([-1. ,  0.5,  2. ])"
      ]
     },
     "execution_count": 20,
     "metadata": {},
     "output_type": "execute_result"
    }
   ],
   "source": [
    "a"
   ]
  },
  {
   "cell_type": "code",
   "execution_count": 9,
   "id": "c7987a73",
   "metadata": {},
   "outputs": [],
   "source": [
    "b = np.linspace(0,2,1)"
   ]
  },
  {
   "cell_type": "code",
   "execution_count": 10,
   "id": "30a4c6ef",
   "metadata": {},
   "outputs": [
    {
     "data": {
      "text/plain": [
       "array([0.])"
      ]
     },
     "execution_count": 10,
     "metadata": {},
     "output_type": "execute_result"
    }
   ],
   "source": [
    "b"
   ]
  },
  {
   "cell_type": "code",
   "execution_count": 11,
   "id": "e9874e97",
   "metadata": {},
   "outputs": [],
   "source": [
    "b = np.arange(0,2,1)"
   ]
  },
  {
   "cell_type": "code",
   "execution_count": 12,
   "id": "4e20b87c",
   "metadata": {},
   "outputs": [
    {
     "data": {
      "text/plain": [
       "array([0, 1])"
      ]
     },
     "execution_count": 12,
     "metadata": {},
     "output_type": "execute_result"
    }
   ],
   "source": [
    "b"
   ]
  },
  {
   "cell_type": "code",
   "execution_count": null,
   "id": "5ac8f239",
   "metadata": {},
   "outputs": [],
   "source": []
  }
 ],
 "metadata": {
  "kernelspec": {
   "display_name": "Python 3",
   "language": "python",
   "name": "python3"
  },
  "language_info": {
   "codemirror_mode": {
    "name": "ipython",
    "version": 3
   },
   "file_extension": ".py",
   "mimetype": "text/x-python",
   "name": "python",
   "nbconvert_exporter": "python",
   "pygments_lexer": "ipython3",
   "version": "3.8.8"
  }
 },
 "nbformat": 4,
 "nbformat_minor": 5
}
